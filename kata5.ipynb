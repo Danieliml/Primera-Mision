{
 "cells": [
  {
   "cell_type": "markdown",
   "metadata": {},
   "source": [
    "# Primer ejercicio"
   ]
  },
  {
   "cell_type": "code",
   "execution_count": 1,
   "metadata": {},
   "outputs": [
    {
     "name": "stdout",
     "output_type": "stream",
     "text": [
      "628949330 390577533.93\n"
     ]
    }
   ],
   "source": [
    "dprimero = 149597870\n",
    "dsegundo = 778547200\n",
    "\n",
    "dkm = dsegundo-dprimero\n",
    "dm = dkm*0.621\n",
    "print(dkm, dm)"
   ]
  },
  {
   "cell_type": "markdown",
   "metadata": {},
   "source": [
    "# Segundo ejercicio"
   ]
  },
  {
   "cell_type": "code",
   "execution_count": 2,
   "metadata": {},
   "outputs": [
    {
     "name": "stdout",
     "output_type": "stream",
     "text": [
      "Distancia en km = 50300000\n",
      "Distancia en m = 31236300.0\n"
     ]
    }
   ],
   "source": [
    "d1 = int(input('Ingrese la primera distancia: '))\n",
    "d2 = int(input('Ingrese la Segunda distancia: '))\n",
    "\n",
    "print(f'Distancia en km = {abs(d2-d1)}')\n",
    "print(f'Distancia en m = {abs(d2-d1)*0.621}')"
   ]
  }
 ],
 "metadata": {
  "interpreter": {
   "hash": "ac59ebe37160ed0dfa835113d9b8498d9f09ceb179beaac4002f036b9467c963"
  },
  "kernelspec": {
   "display_name": "Python 3.9.5 64-bit",
   "language": "python",
   "name": "python3"
  },
  "language_info": {
   "codemirror_mode": {
    "name": "ipython",
    "version": 3
   },
   "file_extension": ".py",
   "mimetype": "text/x-python",
   "name": "python",
   "nbconvert_exporter": "python",
   "pygments_lexer": "ipython3",
   "version": "3.9.5"
  },
  "orig_nbformat": 4
 },
 "nbformat": 4,
 "nbformat_minor": 2
}
