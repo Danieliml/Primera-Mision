{
 "cells": [
  {
   "cell_type": "markdown",
   "metadata": {},
   "source": [
    "# Primer ejercicio"
   ]
  },
  {
   "cell_type": "code",
   "execution_count": 2,
   "metadata": {},
   "outputs": [
    {
     "name": "stdout",
     "output_type": "stream",
     "text": [
      "Falsa alarma, el asteroide tiene velocidad inferior a 25 km/s\n"
     ]
    }
   ],
   "source": [
    "vel = 49\n",
    "aux = vel > 25\n",
    "if aux:\n",
    "    print('Peligro asteroide con velocidad superior a 25 km/s')\n",
    "else:\n",
    "    print('Falsa alarma, el asteroide tiene velocidad inferior a 25 km/s')"
   ]
  },
  {
   "cell_type": "markdown",
   "metadata": {},
   "source": [
    "# Segundo ejercicio"
   ]
  },
  {
   "cell_type": "code",
   "execution_count": 7,
   "metadata": {},
   "outputs": [
    {
     "name": "stdout",
     "output_type": "stream",
     "text": [
      "Falsa alarma\n"
     ]
    }
   ],
   "source": [
    "vel = 19\n",
    "if vel > 20:\n",
    "    print('Aparecera un rayo de luz :o')\n",
    "elif vel == 20:\n",
    "    print('Aparecera un rayo de luz :o')\n",
    "else:\n",
    "    print('Falsa alarma')"
   ]
  },
  {
   "cell_type": "markdown",
   "metadata": {},
   "source": [
    "# Tercer ejercicio"
   ]
  },
  {
   "cell_type": "code",
   "execution_count": 8,
   "metadata": {},
   "outputs": [
    {
     "name": "stdout",
     "output_type": "stream",
     "text": [
      "Peligro de impacto\n",
      "Rayo de luz en el cielo\n",
      "Peligro, asteroide aproximandose a gran velocidad\n"
     ]
    }
   ],
   "source": [
    "vel = 26\n",
    "dim = 30\n",
    "\n",
    "if dim < 25:\n",
    "    print('Asteroide desintegrandose')\n",
    "elif dim > 25 and dim < 1000:\n",
    "    print('Peligro de impacto')\n",
    "\n",
    "if vel > 20:\n",
    "    print('Rayo de luz en el cielo')\n",
    "if vel > 25:\n",
    "    print('Peligro, asteroide aproximandose a gran velocidad')\n"
   ]
  }
 ],
 "metadata": {
  "interpreter": {
   "hash": "ac59ebe37160ed0dfa835113d9b8498d9f09ceb179beaac4002f036b9467c963"
  },
  "kernelspec": {
   "display_name": "Python 3.9.5 64-bit",
   "language": "python",
   "name": "python3"
  },
  "language_info": {
   "codemirror_mode": {
    "name": "ipython",
    "version": 3
   },
   "file_extension": ".py",
   "mimetype": "text/x-python",
   "name": "python",
   "nbconvert_exporter": "python",
   "pygments_lexer": "ipython3",
   "version": "3.9.5"
  },
  "orig_nbformat": 4
 },
 "nbformat": 4,
 "nbformat_minor": 2
}
