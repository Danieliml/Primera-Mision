{
 "cells": [
  {
   "cell_type": "markdown",
   "metadata": {},
   "source": [
    "# Ejercicio 1"
   ]
  },
  {
   "cell_type": "code",
   "execution_count": 4,
   "metadata": {},
   "outputs": [
    {
     "name": "stdout",
     "output_type": "stream",
     "text": [
      " Reporte\n",
      "    Tanque 1: 80\n",
      "    Tanque 2: 70\n",
      "    Tanque 3: 85\n",
      "    Combustible total: 235\n",
      "    Promedio del combustible: 78.33333333333333\n",
      "    \n"
     ]
    }
   ],
   "source": [
    "def informes(t1,t2,t3):\n",
    "    print(f''' Reporte\n",
    "    Tanque 1: {t1}\n",
    "    Tanque 2: {t2}\n",
    "    Tanque 3: {t3}\n",
    "    Combustible total: {t1+t2+t3}\n",
    "    Promedio del combustible: {(t1+t2+t3)/3}\n",
    "    ''')\n",
    "\n",
    "informes(80,70,85)"
   ]
  },
  {
   "cell_type": "code",
   "execution_count": 5,
   "metadata": {},
   "outputs": [
    {
     "name": "stdout",
     "output_type": "stream",
     "text": [
      " Reporte\n",
      "    Tanque 1: 80\n",
      "    Tanque 2: 70\n",
      "    Tanque 3: 85\n",
      "    Combustible total: 235\n",
      "    Promedio del combustible: 78.33333333333333\n",
      "    \n"
     ]
    }
   ],
   "source": [
    "def promedio(*args):\n",
    "    aux = 0\n",
    "    for i in args:\n",
    "        aux += i\n",
    "\n",
    "    return aux/len(args)\n",
    "\n",
    "def reporte_final(t1,t2,t3):\n",
    "    prom = promedio(t1,t2,t3)\n",
    "    print(f''' Reporte\n",
    "    Tanque 1: {t1}\n",
    "    Tanque 2: {t2}\n",
    "    Tanque 3: {t3}\n",
    "    Combustible total: {t1+t2+t3}\n",
    "    Promedio del combustible: {prom}\n",
    "    ''')\n",
    "\n",
    "informes(80,70,85)\n",
    "\n",
    "    "
   ]
  },
  {
   "cell_type": "markdown",
   "metadata": {},
   "source": [
    "# Ejercicio 2"
   ]
  },
  {
   "cell_type": "code",
   "execution_count": 6,
   "metadata": {},
   "outputs": [
    {
     "name": "stdout",
     "output_type": "stream",
     "text": [
      "\n",
      "    Destino: Marte\n",
      "    Tiempo de viaje: 35\n",
      "    Combustible total: 40\n",
      "    \n"
     ]
    }
   ],
   "source": [
    "def reporte_de_mision(t_lanzamiento, t_viaje, destino, t1, t2):\n",
    "    return f'''\n",
    "    Destino: {destino}\n",
    "    Tiempo de viaje: {t_lanzamiento +t_viaje}\n",
    "    Combustible total: {t1+t2}\n",
    "    '''\n",
    "\n",
    "print(reporte_de_mision(20,15,'Marte',10,30))\n",
    "\n"
   ]
  },
  {
   "cell_type": "code",
   "execution_count": 20,
   "metadata": {},
   "outputs": [
    {
     "name": "stdout",
     "output_type": "stream",
     "text": [
      "{'principal': 200, 'externo': 300}\n",
      "\n",
      "    Destino: Marte\n",
      "    Tiempo de viaje: 35\n",
      "    Combustible total: 500\n",
      "    Combustible en principal: 200\n",
      "Combustible en externo: 300\n",
      "\n"
     ]
    }
   ],
   "source": [
    "def reporte_final(destino, *tiempos, **combustibles_en_tanques):\n",
    "    \n",
    "    print(combustibles_en_tanques)\n",
    "    aux = f'''\n",
    "    Destino: {destino}\n",
    "    Tiempo de viaje: {sum(tiempos)}\n",
    "    Combustible total: {sum(combustibles_en_tanques.values())}\n",
    "    '''\n",
    "\n",
    "    for ikey in combustibles_en_tanques.keys():\n",
    "        aux += f'Combustible en {ikey}: {combustibles_en_tanques[ikey]}\\n'\n",
    "    return aux\n",
    "\n",
    "print(reporte_final('Marte', 20, 15, principal=200, externo=300))"
   ]
  }
 ],
 "metadata": {
  "interpreter": {
   "hash": "ac59ebe37160ed0dfa835113d9b8498d9f09ceb179beaac4002f036b9467c963"
  },
  "kernelspec": {
   "display_name": "Python 3.9.5 64-bit",
   "language": "python",
   "name": "python3"
  },
  "language_info": {
   "codemirror_mode": {
    "name": "ipython",
    "version": 3
   },
   "file_extension": ".py",
   "mimetype": "text/x-python",
   "name": "python",
   "nbconvert_exporter": "python",
   "pygments_lexer": "ipython3",
   "version": "3.9.5"
  },
  "orig_nbformat": 4
 },
 "nbformat": 4,
 "nbformat_minor": 2
}
